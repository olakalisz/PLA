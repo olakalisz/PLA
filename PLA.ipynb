{
 "cells": [
  {
   "cell_type": "code",
   "execution_count": 1,
   "metadata": {
    "collapsed": false
   },
   "outputs": [
    {
     "name": "stderr",
     "output_type": "stream",
     "text": [
      "//anaconda/lib/python2.7/site-packages/matplotlib/font_manager.py:273: UserWarning: Matplotlib is building the font cache using fc-list. This may take a moment.\n",
      "  warnings.warn('Matplotlib is building the font cache using fc-list. This may take a moment.')\n"
     ]
    }
   ],
   "source": [
    "from random import uniform\n",
    "import matplotlib.pyplot as plt\n",
    "import matplotlib.lines as mlines\n",
    "import numpy as np"
   ]
  },
  {
   "cell_type": "code",
   "execution_count": 2,
   "metadata": {
    "collapsed": true
   },
   "outputs": [],
   "source": [
    "NUMBER_OF_EXPERIMENTS = 1000\n",
    "NUMBER_OF_TEST_POINTS = 400"
   ]
  },
  {
   "cell_type": "code",
   "execution_count": 3,
   "metadata": {
    "collapsed": true
   },
   "outputs": [],
   "source": [
    "class Point:\n",
    "    \"\"\"To create a Point object we pass a list of line coeficcients (line in general form)\n",
    "       corresponding to f function. Point object has three atributes:\n",
    "        coordinates - list of integers, 0 entry is an artificial coordiante, 1st and 2nd entry\n",
    "                      correspond to x and y coordinates on Cartesian grid\n",
    "        mapping     - an integer, takes values 1 and -1 only, indicates on which side of line,\n",
    "                      defined by f function, the point is\n",
    "        pla         - an integer, takes values 1 and -1 only, indicates on which side of line,\n",
    "                      defined by g function, the point is (used for PLA step)\"\"\"\n",
    "    def __init__(self, f_general):\n",
    "        # x0 = coordinate[0], x1 = coordinate[1], x2 = coordinate[2]\n",
    "        self.coordinates = [1, uniform(-1, 1), uniform(-1, 1)]\n",
    "        self.mapping = np.sign(np.dot(self.coordinates, f_general))\n",
    "        self.pla = 0\n",
    "\n",
    "    def classify(self, weights):\n",
    "        \"\"\"Classifies a point based on the current g function.\n",
    "            Args:\n",
    "            weights - a list of integers, weights for g function (coeficients of line\n",
    "                      in general form corresponding to g function)\"\"\"\n",
    "        self.pla = np.sign(np.dot(self.coordinates, weights))\n",
    "\n",
    "    def correctly_classified(self):\n",
    "        \"\"\"Checks if the point is classified correctly, i.e. if function f and g maps a point\n",
    "           to the same value.\n",
    "           Returns a boolean, indicates if point is correctly classified.\"\"\"\n",
    "        return self.mapping == self.pla"
   ]
  },
  {
   "cell_type": "code",
   "execution_count": 4,
   "metadata": {
    "collapsed": true
   },
   "outputs": [],
   "source": [
    "def get_f():\n",
    "    \"\"\"The method generates a line going through two randomly chosen points (function f).\n",
    "       Returns a list of integers, corresponding to line coefficients in general form.\n",
    "       I.e. line: Ax + By + C = 0\n",
    "            get_f return format [C, A, B]\"\"\"\n",
    "    rand_x = [uniform(-1, 1), uniform(-1, 1)]\n",
    "    rand_y = [uniform(-1, 1), uniform(-1, 1)]\n",
    "\n",
    "    coefficients = np.polyfit(rand_x, rand_y, 1)\n",
    "    f_general = [coefficients[1], coefficients[0], 1]\n",
    "    return f_general"
   ]
  },
  {
   "cell_type": "code",
   "execution_count": 5,
   "metadata": {
    "collapsed": true
   },
   "outputs": [],
   "source": [
    "def all_correctly_classified(points):\n",
    "    \"\"\"Checks if all points passed as argument are correctly classified.\n",
    "        Args:\n",
    "        points - a list of point objects\n",
    "        Returns a boolean, true if all points are correctly classifed, false otherwise.\"\"\"\n",
    "    for point in points:\n",
    "        if not point.correctly_classified():\n",
    "            return False\n",
    "    return True"
   ]
  },
  {
   "cell_type": "code",
   "execution_count": 6,
   "metadata": {
    "collapsed": false
   },
   "outputs": [],
   "source": [
    "def single_experiment(number_of_points, number_of_test_points=0):\n",
    "    \"\"\"The method correcponds to single experiment, i.e. Generate the given number of points\n",
    "       and find a g function that classifies them correctly. Then check how good the classification\n",
    "       is by using genereted test points.\n",
    "        Args:\n",
    "        number_of_points - an integer, N, indicates number of training points\n",
    "        number_of_test_points - an integer, indicates number of test points that will be used\n",
    "                                to verify how good is the classification (g function)\n",
    "        Returns:\n",
    "        an integer, number of iterations it took PLA to find g, i.e. find a valid g function\n",
    "        a float, probability of f(x) /= g(x) (misclassification).\"\"\"\n",
    "    f_function = get_f()\n",
    "    points = [Point(f_function) for _ in range(number_of_points)]\n",
    "\n",
    "    weights = [0, 0, 0]\n",
    "    number_of_iterations = 0\n",
    "    while not all_correctly_classified(points):\n",
    "        number_of_iterations += 1\n",
    "        incorrect = [p for p in points if not p.correctly_classified()]\n",
    "        point = np.random.choice(incorrect)\n",
    "        # Update weights\n",
    "        for i in range(3):\n",
    "            weights[i] = weights[i] + point.mapping * point.coordinates[i]\n",
    "\n",
    "        # Classify points\n",
    "        for p in points:\n",
    "            p.classify(weights)\n",
    "            \n",
    "    if number_of_test_points:\n",
    "        test_points = [Point(f_function) for _ in range(number_of_test_points)]\n",
    "        # Classify test points\n",
    "        for tp in test_points:\n",
    "            tp.classify(weights)\n",
    "        \n",
    "        misclassified = len([tp for tp in test_points if not tp.correctly_classified()])\n",
    "        probability = misclassified/float(number_of_test_points) if number_of_test_points else 0\n",
    "\n",
    "    return number_of_iterations, probability"
   ]
  },
  {
   "cell_type": "code",
   "execution_count": 7,
   "metadata": {
    "collapsed": false
   },
   "outputs": [],
   "source": [
    "def perform_experiments(number_of_points):\n",
    "    \"\"\"The main method used for my approximations for the problem set questions.\n",
    "       This method runs a 1000 experiments to find the average number of iterations\n",
    "       it takes PLA to find g and average probability of misclassification.\n",
    "       Both values get printed.\n",
    "       Args:\n",
    "       number_of_points, an integer, N, number of training points for the problem\"\"\"\n",
    "    print \"N =\", number_of_points, \"\\n\"\n",
    "    total_number_of_iterations = 0\n",
    "    prob_sum = 0\n",
    "    for i in range(NUMBER_OF_EXPERIMENTS):\n",
    "        (iter_no, prob) = single_experiment(number_of_points, NUMBER_OF_TEST_POINTS)\n",
    "        total_number_of_iterations += iter_no\n",
    "        prob_sum += prob\n",
    "    average_iter = total_number_of_iterations/float(NUMBER_OF_EXPERIMENTS)\n",
    "    average_prob = prob_sum/float(NUMBER_OF_EXPERIMENTS)\n",
    "    print \"Average number of iterations it takes for PLA to converge:\"\n",
    "    print average_iter\n",
    "    print \"Average probability of missclassification of a point:\"\n",
    "    print average_prob"
   ]
  },
  {
   "cell_type": "code",
   "execution_count": 8,
   "metadata": {
    "collapsed": false
   },
   "outputs": [
    {
     "name": "stdout",
     "output_type": "stream",
     "text": [
      "N = 10 \n",
      "\n",
      "Average number of iterations it takes for PLA to converge:\n",
      "8.939\n",
      "Average probability of missclassification of a point:\n",
      "0.11004\n"
     ]
    }
   ],
   "source": [
    "perform_experiments(number_of_points=10)"
   ]
  },
  {
   "cell_type": "code",
   "execution_count": 9,
   "metadata": {
    "collapsed": false
   },
   "outputs": [
    {
     "name": "stdout",
     "output_type": "stream",
     "text": [
      "N = 100 \n",
      "\n",
      "Average number of iterations it takes for PLA to converge:\n",
      "112.504\n",
      "Average probability of missclassification of a point:\n",
      "0.0132675\n"
     ]
    }
   ],
   "source": [
    "perform_experiments(number_of_points=100)"
   ]
  },
  {
   "cell_type": "code",
   "execution_count": 10,
   "metadata": {
    "collapsed": false
   },
   "outputs": [
    {
     "data": {
      "image/png": "[encoded data removed]",
      "text/plain": [
       "<matplotlib.figure.Figure at 0x1044a62d0>"
      ]
     },
     "metadata": {},
     "output_type": "display_data"
    }
   ],
   "source": [
    "f_function = get_f()\n",
    "points = [Point(f_function) for _ in range(10)]\n",
    "\n",
    "weights = [0, 0, 0]\n",
    "number_of_iterations = 0\n",
    "while not all_correctly_classified(points):\n",
    "    number_of_iterations += 1\n",
    "    incorrect = [p for p in points if not p.correctly_classified()]\n",
    "    point = np.random.choice(incorrect)\n",
    "    # Update weights\n",
    "    for i in range(3):\n",
    "        weights[i] = weights[i] + point.mapping * point.coordinates[i]\n",
    "\n",
    "    # Classify points\n",
    "    for p in points:\n",
    "        p.classify(weights)\n",
    "        \n",
    "def f(x):\n",
    "    return -(f_function[1]*x + f_function[0])/float(f_function[2])\n",
    "\n",
    "def g(x):\n",
    "    return -(weights[1]*x + weights[0])/float(weights[2])\n",
    "\n",
    "t1 = np.arange(-1, 1.5, 0.1)\n",
    "points_x_plus = [p.coordinates[1] for p in points if p.mapping == 1]\n",
    "points_y_plus = [p.coordinates[2] for p in points if p.mapping == 1]\n",
    "\n",
    "points_x_minus = [p.coordinates[1] for p in points if p.mapping == -1]\n",
    "points_y_minus = [p.coordinates[2] for p in points if p.mapping == -1]\n",
    "        \n",
    "plt.plot(points_x_plus, points_y_plus, 'r+')\n",
    "plt.plot(points_x_minus, points_y_minus, 'bo')\n",
    "plt.plot(t1, f(t1), 'g')\n",
    "plt.plot(t1, g(t1), 'c')\n",
    "green_line = mlines.Line2D([], [], color='g',label='f(x)')\n",
    "cyan_line = mlines.Line2D([], [], color='c',label='g(x)')\n",
    "plt.legend(handles=[green_line, cyan_line])\n",
    "plt.axis([-1, 1, -1, 1])\n",
    "plt.show()"
   ]
  },
  {
   "cell_type": "code",
   "execution_count": 11,
   "metadata": {
    "collapsed": false,
    "scrolled": true
   },
   "outputs": [
    {
     "data": {
      "image/png": "[encoded data removed]",
      "text/plain": [
       "<matplotlib.figure.Figure at 0x109df7350>"
      ]
     },
     "metadata": {},
     "output_type": "display_data"
    }
   ],
   "source": [
    "f_function = get_f()\n",
    "points = [Point(f_function) for _ in range(100)]\n",
    "\n",
    "weights = [0, 0, 0]\n",
    "number_of_iterations = 0\n",
    "while not all_correctly_classified(points):\n",
    "    number_of_iterations += 1\n",
    "    incorrect = [p for p in points if not p.correctly_classified()]\n",
    "    point = np.random.choice(incorrect)\n",
    "    # Update weights\n",
    "    for i in range(3):\n",
    "        weights[i] = weights[i] + point.mapping * point.coordinates[i]\n",
    "\n",
    "    # Classify points\n",
    "    for p in points:\n",
    "        p.classify(weights)\n",
    "        \n",
    "def f(x):\n",
    "    return -(f_function[1]*x + f_function[0])/float(f_function[2])\n",
    "\n",
    "def g(x):\n",
    "    return -(weights[1]*x + weights[0])/float(weights[2])\n",
    "\n",
    "t1 = np.arange(-1, 1.5, 0.1)\n",
    "points_x_plus = [p.coordinates[1] for p in points if p.mapping == 1]\n",
    "points_y_plus = [p.coordinates[2] for p in points if p.mapping == 1]\n",
    "\n",
    "points_x_minus = [p.coordinates[1] for p in points if p.mapping == -1]\n",
    "points_y_minus = [p.coordinates[2] for p in points if p.mapping == -1]\n",
    "        \n",
    "plt.plot(points_x_plus, points_y_plus, 'r+')\n",
    "plt.plot(points_x_minus, points_y_minus, 'bo')\n",
    "plt.plot(t1, f(t1), 'g')\n",
    "plt.plot(t1, g(t1), 'c')\n",
    "green_line = mlines.Line2D([], [], color='g',label='f(x)')\n",
    "cyan_line = mlines.Line2D([], [], color='c',label='g(x)')\n",
    "plt.legend(handles=[green_line, cyan_line])\n",
    "plt.axis([-1, 1, -1, 1])\n",
    "plt.show()"
   ]
  }
 ],
 "metadata": {
  "anaconda-cloud": {},
  "kernelspec": {
   "display_name": "Python [default]",
   "language": "python",
   "name": "python2"
  },
  "language_info": {
   "codemirror_mode": {
    "name": "ipython",
    "version": 2
   },
   "file_extension": ".py",
   "mimetype": "text/x-python",
   "name": "python",
   "nbconvert_exporter": "python",
   "pygments_lexer": "ipython2",
   "version": "2.7.12"
  }
 },
 "nbformat": 4,
 "nbformat_minor": 1
}
